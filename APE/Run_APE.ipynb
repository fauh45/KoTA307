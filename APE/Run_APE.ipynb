{
  "cells": [
    {
      "cell_type": "markdown",
      "metadata": {
        "id": "Iy8EDwAyNaLZ"
      },
      "source": [
        "## Setup"
      ]
    },
    {
      "cell_type": "code",
      "execution_count": 1,
      "metadata": {},
      "outputs": [
        {
          "name": "stdout",
          "output_type": "stream",
          "text": [
            "[sudo] password for fauh45: \n"
          ]
        }
      ],
      "source": [
        "!sudo apt install unzip"
      ]
    },
    {
      "cell_type": "code",
      "execution_count": null,
      "metadata": {
        "colab": {
          "base_uri": "https://localhost:8080/"
        },
        "id": "pyAR1uhYLRHi",
        "outputId": "3b389e67-b0a6-4a4d-d697-80f5e6892026"
      },
      "outputs": [],
      "source": [
        "!git clone https://github.com/fauh45/KoTA307.git"
      ]
    },
    {
      "cell_type": "code",
      "execution_count": null,
      "metadata": {},
      "outputs": [],
      "source": [
        "!wget https://bitai.sgp1.digitaloceanspaces.com/Output/cleaned_main_dataset.csv"
      ]
    },
    {
      "cell_type": "code",
      "execution_count": null,
      "metadata": {
        "colab": {
          "base_uri": "https://localhost:8080/"
        },
        "id": "YXAQw9g9Lcex",
        "outputId": "286dbe28-6d00-405e-b0f3-51bac6b97750"
      },
      "outputs": [],
      "source": [
        "!wget http://vectors.nlpl.eu/repository/11/158.zip"
      ]
    },
    {
      "cell_type": "code",
      "execution_count": null,
      "metadata": {
        "id": "H8C7P3FFMedf"
      },
      "outputs": [],
      "source": [
        "!mkdir ELMo-id"
      ]
    },
    {
      "cell_type": "code",
      "execution_count": null,
      "metadata": {
        "colab": {
          "base_uri": "https://localhost:8080/"
        },
        "id": "MtcuIZZVMH5N",
        "outputId": "98d56769-225b-486c-c505-a9f17d834c78"
      },
      "outputs": [],
      "source": [
        "!unzip /home/158.zip -d /home/ELMo-id"
      ]
    },
    {
      "cell_type": "markdown",
      "metadata": {
        "id": "Bt4RBPbFO0cu"
      },
      "source": [
        "## Update"
      ]
    },
    {
      "cell_type": "code",
      "execution_count": null,
      "metadata": {
        "colab": {
          "base_uri": "https://localhost:8080/"
        },
        "id": "XXaHDRK5Oz3B",
        "outputId": "d27600b3-6435-47ae-dea5-1f2ae1f526ac"
      },
      "outputs": [],
      "source": [
        "!cd /home/KoTA307 && git pull"
      ]
    },
    {
      "cell_type": "code",
      "execution_count": null,
      "metadata": {
        "id": "2cibkM_JPMrR"
      },
      "outputs": [],
      "source": [
        "!cd /home/KoTA307/APE && pip install -r requirements.txt"
      ]
    },
    {
      "cell_type": "markdown",
      "metadata": {
        "id": "NE_BjIrvNe1z"
      },
      "source": [
        "## Excution"
      ]
    },
    {
      "cell_type": "code",
      "execution_count": null,
      "metadata": {},
      "outputs": [],
      "source": [
        "%env WANDB_API_KEY=b17fb23d000939f3a0b5e9c50d35d6b3a82839c6"
      ]
    },
    {
      "cell_type": "code",
      "execution_count": null,
      "metadata": {
        "colab": {
          "base_uri": "https://localhost:8080/"
        },
        "id": "K_mK6Bm0Cthw",
        "outputId": "30a7b19a-3810-4322-ed83-c03828bd41a7"
      },
      "outputs": [],
      "source": [
        "!wandb login"
      ]
    },
    {
      "cell_type": "code",
      "execution_count": null,
      "metadata": {
        "id": "RinEJA8uZlFl"
      },
      "outputs": [],
      "source": [
        "import torch\n",
        "\n",
        "torch.backends.cudnn.benchmark = True"
      ]
    },
    {
      "cell_type": "code",
      "execution_count": null,
      "metadata": {
        "colab": {
          "base_uri": "https://localhost:8080/"
        },
        "id": "stvg6pSKNYTi",
        "outputId": "e1066f57-d913-42cb-d4e0-ee79db4f313e"
      },
      "outputs": [],
      "source": [
        "!python -W ignore::UserWarning /home/KoTA307/APE/main.py --elmo-path /home/ELMo-id --bert-path indolem/indobert-base-uncased --dataset-path /home/cleaned_main_dataset.csv --gpu"
      ]
    },
    {
      "cell_type": "code",
      "execution_count": null,
      "metadata": {
        "id": "1SYQKxznHagv"
      },
      "outputs": [],
      "source": []
    }
  ],
  "metadata": {
    "accelerator": "GPU",
    "colab": {
      "provenance": []
    },
    "gpuClass": "standard",
    "kernelspec": {
      "display_name": "env",
      "language": "python",
      "name": "python3"
    },
    "language_info": {
      "codemirror_mode": {
        "name": "ipython",
        "version": 3
      },
      "file_extension": ".py",
      "mimetype": "text/x-python",
      "name": "python",
      "nbconvert_exporter": "python",
      "pygments_lexer": "ipython3",
      "version": "3.9.13"
    },
    "vscode": {
      "interpreter": {
        "hash": "6f0d64e1fb26f14183872d383f789b5403e7557dde384e61c60529657a8cab5d"
      }
    }
  },
  "nbformat": 4,
  "nbformat_minor": 0
}
