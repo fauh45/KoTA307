{
 "cells": [
  {
   "cell_type": "code",
   "execution_count": 1,
   "metadata": {},
   "outputs": [],
   "source": [
    "import pandas as pd\n",
    "import matplotlib.pyplot as plt\n",
    "import csv\n",
    "import re\n"
   ]
  },
  {
   "cell_type": "code",
   "execution_count": 2,
   "metadata": {},
   "outputs": [],
   "source": [
    "df = pd.read_csv(\"./cleaned_main_dataset.csv\")\n",
    "df = df.loc[:, ~df.columns.str.contains(\"^Unnamed\")]"
   ]
  },
  {
   "cell_type": "code",
   "execution_count": 3,
   "metadata": {},
   "outputs": [],
   "source": [
    "remove_all_non_alpha_regex = re.compile(\"[^a-zA-Z0-9 ]\")"
   ]
  },
  {
   "cell_type": "code",
   "execution_count": 4,
   "metadata": {},
   "outputs": [],
   "source": [
    "df[\"Product description\"] = df[\"Product description\"].apply(\n",
    "    lambda x: remove_all_non_alpha_regex.sub(\"\", x).lower()\n",
    ")\n",
    "df[\"Lineitem name\"] = df[\"Lineitem name\"].apply(\n",
    "    lambda x: remove_all_non_alpha_regex.sub(\"\", x).lower()\n",
    ")\n",
    "df = df[~(df[\"Product description\"] == \"\")]\n"
   ]
  },
  {
   "cell_type": "code",
   "execution_count": 5,
   "metadata": {},
   "outputs": [
    {
     "data": {
      "text/plain": [
       "7504"
      ]
     },
     "execution_count": 5,
     "metadata": {},
     "output_type": "execute_result"
    }
   ],
   "source": [
    "len(df)"
   ]
  },
  {
   "cell_type": "code",
   "execution_count": 6,
   "metadata": {},
   "outputs": [
    {
     "data": {
      "text/html": [
       "<div>\n",
       "<style scoped>\n",
       "    .dataframe tbody tr th:only-of-type {\n",
       "        vertical-align: middle;\n",
       "    }\n",
       "\n",
       "    .dataframe tbody tr th {\n",
       "        vertical-align: top;\n",
       "    }\n",
       "\n",
       "    .dataframe thead th {\n",
       "        text-align: right;\n",
       "    }\n",
       "</style>\n",
       "<table border=\"1\" class=\"dataframe\">\n",
       "  <thead>\n",
       "    <tr style=\"text-align: right;\">\n",
       "      <th></th>\n",
       "      <th>Email</th>\n",
       "      <th>Lineitem name</th>\n",
       "      <th>Lineitem sku</th>\n",
       "      <th>Product description</th>\n",
       "    </tr>\n",
       "  </thead>\n",
       "  <tbody>\n",
       "    <tr>\n",
       "      <th>0</th>\n",
       "      <td>30cf6c31baa03a1c5872cfb2ab85ea1abf124c3b</td>\n",
       "      <td>the victoria bouquet</td>\n",
       "      <td>OBVBUN1410</td>\n",
       "      <td>mini bouquet spesial dari outerbloom terdiri d...</td>\n",
       "    </tr>\n",
       "    <tr>\n",
       "      <th>1</th>\n",
       "      <td>ab6fce12a23cb7ffe3c2bf1e8515e52118a3170e</td>\n",
       "      <td>gentle soul jabodetabek</td>\n",
       "      <td>JKTDUK1030</td>\n",
       "      <td>papan bunga untuk ucapan duka cita desain terb...</td>\n",
       "    </tr>\n",
       "    <tr>\n",
       "      <th>2</th>\n",
       "      <td>b548ebfc66a66540846b6f73ec6f1290be31c8c4</td>\n",
       "      <td>aia papan bunga condolences l2 005</td>\n",
       "      <td>AIAPPB1024</td>\n",
       "      <td>papan bunga untuk ucapan duka cita desain terb...</td>\n",
       "    </tr>\n",
       "    <tr>\n",
       "      <th>3</th>\n",
       "      <td>9091f644260c73912b8c0c37b8d84d5cea0af86d</td>\n",
       "      <td>endearing ruby</td>\n",
       "      <td>OBVSTF1015</td>\n",
       "      <td>rangkaian bunga untuk ucapan congratulations s...</td>\n",
       "    </tr>\n",
       "    <tr>\n",
       "      <th>4</th>\n",
       "      <td>b63bd66834f8e9d1e9da1008c8f8725bdb4f0039</td>\n",
       "      <td>sweet  bright</td>\n",
       "      <td>OBVBUA1018</td>\n",
       "      <td>parsel buahbuahan premium dari outerbloom terd...</td>\n",
       "    </tr>\n",
       "  </tbody>\n",
       "</table>\n",
       "</div>"
      ],
      "text/plain": [
       "                                      Email  \\\n",
       "0  30cf6c31baa03a1c5872cfb2ab85ea1abf124c3b   \n",
       "1  ab6fce12a23cb7ffe3c2bf1e8515e52118a3170e   \n",
       "2  b548ebfc66a66540846b6f73ec6f1290be31c8c4   \n",
       "3  9091f644260c73912b8c0c37b8d84d5cea0af86d   \n",
       "4  b63bd66834f8e9d1e9da1008c8f8725bdb4f0039   \n",
       "\n",
       "                        Lineitem name Lineitem sku  \\\n",
       "0                the victoria bouquet   OBVBUN1410   \n",
       "1             gentle soul jabodetabek   JKTDUK1030   \n",
       "2  aia papan bunga condolences l2 005   AIAPPB1024   \n",
       "3                      endearing ruby   OBVSTF1015   \n",
       "4                       sweet  bright   OBVBUA1018   \n",
       "\n",
       "                                 Product description  \n",
       "0  mini bouquet spesial dari outerbloom terdiri d...  \n",
       "1  papan bunga untuk ucapan duka cita desain terb...  \n",
       "2  papan bunga untuk ucapan duka cita desain terb...  \n",
       "3  rangkaian bunga untuk ucapan congratulations s...  \n",
       "4  parsel buahbuahan premium dari outerbloom terd...  "
      ]
     },
     "execution_count": 6,
     "metadata": {},
     "output_type": "execute_result"
    }
   ],
   "source": [
    "df.head(5)"
   ]
  },
  {
   "cell_type": "code",
   "execution_count": 7,
   "metadata": {},
   "outputs": [
    {
     "data": {
      "text/plain": [
       "<AxesSubplot: >"
      ]
     },
     "execution_count": 7,
     "metadata": {},
     "output_type": "execute_result"
    },
    {
     "data": {
      "image/png": "[encoded data removed]",
      "text/plain": [
       "<Figure size 500x1000 with 1 Axes>"
      ]
     },
     "metadata": {},
     "output_type": "display_data"
    }
   ],
   "source": [
    "word_freq = df[\"Product description\"].str.split(expand=True).stack().value_counts().sort_values(ascending=False)\n",
    "\n",
    "word_freq[:50].plot(figsize=(5, 10),kind=\"barh\")"
   ]
  },
  {
   "cell_type": "code",
   "execution_count": 8,
   "metadata": {},
   "outputs": [
    {
     "data": {
      "text/plain": [
       "0    mini bouquet spesial dari outerbloom terdiri d...\n",
       "1    papan bunga untuk ucapan duka cita desain terb...\n",
       "2    papan bunga untuk ucapan duka cita desain terb...\n",
       "3    rangkaian bunga untuk ucapan congratulations s...\n",
       "4    parsel buahbuahan premium dari outerbloom terd...\n",
       "Name: Product description, dtype: object"
      ]
     },
     "execution_count": 8,
     "metadata": {},
     "output_type": "execute_result"
    }
   ],
   "source": [
    "common_words = []\n",
    "\n",
    "\n",
    "def remove_common_words(description: str):\n",
    "    tmp_desc = description\n",
    "\n",
    "    for word in common_words:\n",
    "        tmp_desc = tmp_desc.replace(word, \"\")\n",
    "\n",
    "    return tmp_desc\n",
    "\n",
    "\n",
    "df[\"Product description\"] = df[\"Product description\"].apply(\n",
    "    remove_common_words\n",
    ")\n",
    "\n",
    "df[\"Product description\"].head(5)\n"
   ]
  },
  {
   "cell_type": "code",
   "execution_count": 9,
   "metadata": {},
   "outputs": [
    {
     "data": {
      "text/plain": [
       "7504"
      ]
     },
     "execution_count": 9,
     "metadata": {},
     "output_type": "execute_result"
    }
   ],
   "source": [
    "len(df)"
   ]
  },
  {
   "cell_type": "code",
   "execution_count": 10,
   "metadata": {},
   "outputs": [
    {
     "data": {
      "text/plain": [
       "<AxesSubplot: >"
      ]
     },
     "execution_count": 10,
     "metadata": {},
     "output_type": "execute_result"
    },
    {
     "data": {
      "image/png": "[encoded data removed]",
      "text/plain": [
       "<Figure size 640x480 with 1 Axes>"
      ]
     },
     "metadata": {},
     "output_type": "display_data"
    }
   ],
   "source": [
    "unique_lineitem = df[\"Lineitem sku\"].value_counts()\n",
    "unique_lineitem[:20].sort_values(ascending=False).plot(kind=\"barh\")\n"
   ]
  },
  {
   "cell_type": "code",
   "execution_count": 11,
   "metadata": {},
   "outputs": [
    {
     "name": "stdout",
     "output_type": "stream",
     "text": [
      "Unique product bought: 1240\n",
      "% of total products: 33.297529538131045\n"
     ]
    }
   ],
   "source": [
    "print(\"Unique product bought:\", len(unique_lineitem))\n",
    "print(\"% of total products:\", (len(unique_lineitem) / 3724) * 100)\n"
   ]
  },
  {
   "attachments": {},
   "cell_type": "markdown",
   "metadata": {},
   "source": [
    "## Main data splitting\n",
    "\n",
    "Split main dataset to training and test by taking one from each email."
   ]
  },
  {
   "cell_type": "code",
   "execution_count": 12,
   "metadata": {},
   "outputs": [
    {
     "data": {
      "text/html": [
       "<div>\n",
       "<style scoped>\n",
       "    .dataframe tbody tr th:only-of-type {\n",
       "        vertical-align: middle;\n",
       "    }\n",
       "\n",
       "    .dataframe tbody tr th {\n",
       "        vertical-align: top;\n",
       "    }\n",
       "\n",
       "    .dataframe thead th {\n",
       "        text-align: right;\n",
       "    }\n",
       "</style>\n",
       "<table border=\"1\" class=\"dataframe\">\n",
       "  <thead>\n",
       "    <tr style=\"text-align: right;\">\n",
       "      <th></th>\n",
       "      <th>Email</th>\n",
       "      <th>Lineitem name</th>\n",
       "      <th>Lineitem sku</th>\n",
       "      <th>Product description</th>\n",
       "    </tr>\n",
       "  </thead>\n",
       "  <tbody>\n",
       "    <tr>\n",
       "      <th>1542</th>\n",
       "      <td>005dae28d8d6b51ecc3468cdb4fe470b9d6a9f4b</td>\n",
       "      <td>heartfelt hope jabodetabek</td>\n",
       "      <td>JKTCON1008</td>\n",
       "      <td>papan bunga untuk ucapan selamat desain terbai...</td>\n",
       "    </tr>\n",
       "    <tr>\n",
       "      <th>2146</th>\n",
       "      <td>006d40642b04aabe1b61ecae5bc1d438403649b8</td>\n",
       "      <td>charming tulip in vase</td>\n",
       "      <td>OBVBUN1812</td>\n",
       "      <td>buket bunga meja dari outerbloom perpaduan sem...</td>\n",
       "    </tr>\n",
       "    <tr>\n",
       "      <th>7716</th>\n",
       "      <td>007504498121b31483adfb3f0110e1b64d925ae5</td>\n",
       "      <td>happy graduation  red bouquet</td>\n",
       "      <td>OBVBUN1313</td>\n",
       "      <td>pelengkap momen spesial 12 mawar merah babys b...</td>\n",
       "    </tr>\n",
       "    <tr>\n",
       "      <th>7256</th>\n",
       "      <td>009ba59f3159b74d8eed4525f17ca52f92ae5f0c</td>\n",
       "      <td>eternal fidelity jabodetabek</td>\n",
       "      <td>JKTWED1008</td>\n",
       "      <td>papan bunga untuk ucapan selamat menikah desai...</td>\n",
       "    </tr>\n",
       "    <tr>\n",
       "      <th>4581</th>\n",
       "      <td>00ae4c165f3141fde869e7dcb1d786b85fd0565b</td>\n",
       "      <td>sincerity solace</td>\n",
       "      <td>OBVSTF1050</td>\n",
       "      <td>rangkaian bunga untuk ucapan duka cita terdiri...</td>\n",
       "    </tr>\n",
       "  </tbody>\n",
       "</table>\n",
       "</div>"
      ],
      "text/plain": [
       "                                         Email                  Lineitem name  \\\n",
       "1542  005dae28d8d6b51ecc3468cdb4fe470b9d6a9f4b     heartfelt hope jabodetabek   \n",
       "2146  006d40642b04aabe1b61ecae5bc1d438403649b8         charming tulip in vase   \n",
       "7716  007504498121b31483adfb3f0110e1b64d925ae5  happy graduation  red bouquet   \n",
       "7256  009ba59f3159b74d8eed4525f17ca52f92ae5f0c   eternal fidelity jabodetabek   \n",
       "4581  00ae4c165f3141fde869e7dcb1d786b85fd0565b               sincerity solace   \n",
       "\n",
       "     Lineitem sku                                Product description  \n",
       "1542   JKTCON1008  papan bunga untuk ucapan selamat desain terbai...  \n",
       "2146   OBVBUN1812  buket bunga meja dari outerbloom perpaduan sem...  \n",
       "7716   OBVBUN1313  pelengkap momen spesial 12 mawar merah babys b...  \n",
       "7256   JKTWED1008  papan bunga untuk ucapan selamat menikah desai...  \n",
       "4581   OBVSTF1050  rangkaian bunga untuk ucapan duka cita terdiri...  "
      ]
     },
     "execution_count": 12,
     "metadata": {},
     "output_type": "execute_result"
    }
   ],
   "source": [
    "test = df.groupby(\"Email\").sample(1)\n",
    "\n",
    "test.head(5)"
   ]
  },
  {
   "cell_type": "code",
   "execution_count": 13,
   "metadata": {},
   "outputs": [
    {
     "name": "stdout",
     "output_type": "stream",
     "text": [
      "Test dataset size: 1208\n"
     ]
    }
   ],
   "source": [
    "print(\"Test dataset size:\", len(test))\n"
   ]
  },
  {
   "cell_type": "code",
   "execution_count": 14,
   "metadata": {},
   "outputs": [
    {
     "data": {
      "text/html": [
       "<div>\n",
       "<style scoped>\n",
       "    .dataframe tbody tr th:only-of-type {\n",
       "        vertical-align: middle;\n",
       "    }\n",
       "\n",
       "    .dataframe tbody tr th {\n",
       "        vertical-align: top;\n",
       "    }\n",
       "\n",
       "    .dataframe thead th {\n",
       "        text-align: right;\n",
       "    }\n",
       "</style>\n",
       "<table border=\"1\" class=\"dataframe\">\n",
       "  <thead>\n",
       "    <tr style=\"text-align: right;\">\n",
       "      <th></th>\n",
       "      <th>Email</th>\n",
       "      <th>Lineitem name</th>\n",
       "      <th>Lineitem sku</th>\n",
       "      <th>Product description</th>\n",
       "    </tr>\n",
       "  </thead>\n",
       "  <tbody>\n",
       "    <tr>\n",
       "      <th>1</th>\n",
       "      <td>ab6fce12a23cb7ffe3c2bf1e8515e52118a3170e</td>\n",
       "      <td>gentle soul jabodetabek</td>\n",
       "      <td>JKTDUK1030</td>\n",
       "      <td>papan bunga untuk ucapan duka cita desain terb...</td>\n",
       "    </tr>\n",
       "    <tr>\n",
       "      <th>2</th>\n",
       "      <td>b548ebfc66a66540846b6f73ec6f1290be31c8c4</td>\n",
       "      <td>aia papan bunga condolences l2 005</td>\n",
       "      <td>AIAPPB1024</td>\n",
       "      <td>papan bunga untuk ucapan duka cita desain terb...</td>\n",
       "    </tr>\n",
       "    <tr>\n",
       "      <th>3</th>\n",
       "      <td>9091f644260c73912b8c0c37b8d84d5cea0af86d</td>\n",
       "      <td>endearing ruby</td>\n",
       "      <td>OBVSTF1015</td>\n",
       "      <td>rangkaian bunga untuk ucapan congratulations s...</td>\n",
       "    </tr>\n",
       "    <tr>\n",
       "      <th>5</th>\n",
       "      <td>8efa05e583b605d04ca0dfa32422ae00967c9b0b</td>\n",
       "      <td>outerbloom jasmine breeze diffuser  50 ml</td>\n",
       "      <td>OBIDIF1001</td>\n",
       "      <td>reed diffuser aroma jasmine dapat bertahan sek...</td>\n",
       "    </tr>\n",
       "    <tr>\n",
       "      <th>7</th>\n",
       "      <td>8efa05e583b605d04ca0dfa32422ae00967c9b0b</td>\n",
       "      <td>rose empress in vase</td>\n",
       "      <td>OBVBUN1765</td>\n",
       "      <td>buket bunga meja spesial terdiri dari mawar me...</td>\n",
       "    </tr>\n",
       "  </tbody>\n",
       "</table>\n",
       "</div>"
      ],
      "text/plain": [
       "                                      Email  \\\n",
       "1  ab6fce12a23cb7ffe3c2bf1e8515e52118a3170e   \n",
       "2  b548ebfc66a66540846b6f73ec6f1290be31c8c4   \n",
       "3  9091f644260c73912b8c0c37b8d84d5cea0af86d   \n",
       "5  8efa05e583b605d04ca0dfa32422ae00967c9b0b   \n",
       "7  8efa05e583b605d04ca0dfa32422ae00967c9b0b   \n",
       "\n",
       "                               Lineitem name Lineitem sku  \\\n",
       "1                    gentle soul jabodetabek   JKTDUK1030   \n",
       "2         aia papan bunga condolences l2 005   AIAPPB1024   \n",
       "3                             endearing ruby   OBVSTF1015   \n",
       "5  outerbloom jasmine breeze diffuser  50 ml   OBIDIF1001   \n",
       "7                       rose empress in vase   OBVBUN1765   \n",
       "\n",
       "                                 Product description  \n",
       "1  papan bunga untuk ucapan duka cita desain terb...  \n",
       "2  papan bunga untuk ucapan duka cita desain terb...  \n",
       "3  rangkaian bunga untuk ucapan congratulations s...  \n",
       "5  reed diffuser aroma jasmine dapat bertahan sek...  \n",
       "7  buket bunga meja spesial terdiri dari mawar me...  "
      ]
     },
     "execution_count": 14,
     "metadata": {},
     "output_type": "execute_result"
    }
   ],
   "source": [
    "training = df[~df.isin(test)].dropna()\n",
    "\n",
    "training.head(5)"
   ]
  },
  {
   "cell_type": "code",
   "execution_count": 15,
   "metadata": {},
   "outputs": [
    {
     "name": "stdout",
     "output_type": "stream",
     "text": [
      "Training dataset size: 6296\n"
     ]
    }
   ],
   "source": [
    "print(\"Training dataset size:\", len(training))"
   ]
  },
  {
   "cell_type": "code",
   "execution_count": 16,
   "metadata": {},
   "outputs": [],
   "source": [
    "from itertools import permutations"
   ]
  },
  {
   "cell_type": "code",
   "execution_count": 18,
   "metadata": {},
   "outputs": [],
   "source": [
    "grouped_training = training.groupby(\"Email\")\n",
    "\n",
    "training_dataset_permutated = []\n",
    "\n",
    "for key,group in grouped_training:\n",
    "    for b,g in permutations(group['Product description'].tolist(),2):\n",
    "        training_dataset_permutated.append([key,b,g])\n",
    "\n",
    "final_training_dataset = pd.DataFrame(training_dataset_permutated,columns=['Email','Description 1','Description 2'])"
   ]
  },
  {
   "cell_type": "code",
   "execution_count": 19,
   "metadata": {},
   "outputs": [
    {
     "data": {
      "text/html": [
       "<div>\n",
       "<style scoped>\n",
       "    .dataframe tbody tr th:only-of-type {\n",
       "        vertical-align: middle;\n",
       "    }\n",
       "\n",
       "    .dataframe tbody tr th {\n",
       "        vertical-align: top;\n",
       "    }\n",
       "\n",
       "    .dataframe thead th {\n",
       "        text-align: right;\n",
       "    }\n",
       "</style>\n",
       "<table border=\"1\" class=\"dataframe\">\n",
       "  <thead>\n",
       "    <tr style=\"text-align: right;\">\n",
       "      <th></th>\n",
       "      <th>Email</th>\n",
       "      <th>Description 1</th>\n",
       "      <th>Description 2</th>\n",
       "    </tr>\n",
       "  </thead>\n",
       "  <tbody>\n",
       "    <tr>\n",
       "      <th>0</th>\n",
       "      <td>005dae28d8d6b51ecc3468cdb4fe470b9d6a9f4b</td>\n",
       "      <td>papan bunga untuk ucapan selamat desain terbai...</td>\n",
       "      <td>papan bunga untuk ucapan duka cita desain terb...</td>\n",
       "    </tr>\n",
       "    <tr>\n",
       "      <th>1</th>\n",
       "      <td>005dae28d8d6b51ecc3468cdb4fe470b9d6a9f4b</td>\n",
       "      <td>papan bunga untuk ucapan selamat desain terbai...</td>\n",
       "      <td>papan bunga untuk ucapan selamat desain terbai...</td>\n",
       "    </tr>\n",
       "    <tr>\n",
       "      <th>2</th>\n",
       "      <td>005dae28d8d6b51ecc3468cdb4fe470b9d6a9f4b</td>\n",
       "      <td>papan bunga untuk ucapan selamat desain terbai...</td>\n",
       "      <td>terdiri dari bunga mawar putih dan bunga lily ...</td>\n",
       "    </tr>\n",
       "    <tr>\n",
       "      <th>3</th>\n",
       "      <td>005dae28d8d6b51ecc3468cdb4fe470b9d6a9f4b</td>\n",
       "      <td>papan bunga untuk ucapan selamat desain terbai...</td>\n",
       "      <td>papan bunga untuk ucapan selamat menikah desai...</td>\n",
       "    </tr>\n",
       "    <tr>\n",
       "      <th>4</th>\n",
       "      <td>005dae28d8d6b51ecc3468cdb4fe470b9d6a9f4b</td>\n",
       "      <td>papan bunga untuk ucapan duka cita desain terb...</td>\n",
       "      <td>papan bunga untuk ucapan selamat desain terbai...</td>\n",
       "    </tr>\n",
       "  </tbody>\n",
       "</table>\n",
       "</div>"
      ],
      "text/plain": [
       "                                      Email  \\\n",
       "0  005dae28d8d6b51ecc3468cdb4fe470b9d6a9f4b   \n",
       "1  005dae28d8d6b51ecc3468cdb4fe470b9d6a9f4b   \n",
       "2  005dae28d8d6b51ecc3468cdb4fe470b9d6a9f4b   \n",
       "3  005dae28d8d6b51ecc3468cdb4fe470b9d6a9f4b   \n",
       "4  005dae28d8d6b51ecc3468cdb4fe470b9d6a9f4b   \n",
       "\n",
       "                                       Description 1  \\\n",
       "0  papan bunga untuk ucapan selamat desain terbai...   \n",
       "1  papan bunga untuk ucapan selamat desain terbai...   \n",
       "2  papan bunga untuk ucapan selamat desain terbai...   \n",
       "3  papan bunga untuk ucapan selamat desain terbai...   \n",
       "4  papan bunga untuk ucapan duka cita desain terb...   \n",
       "\n",
       "                                       Description 2  \n",
       "0  papan bunga untuk ucapan duka cita desain terb...  \n",
       "1  papan bunga untuk ucapan selamat desain terbai...  \n",
       "2  terdiri dari bunga mawar putih dan bunga lily ...  \n",
       "3  papan bunga untuk ucapan selamat menikah desai...  \n",
       "4  papan bunga untuk ucapan selamat desain terbai...  "
      ]
     },
     "execution_count": 19,
     "metadata": {},
     "output_type": "execute_result"
    }
   ],
   "source": [
    "final_training_dataset.head(5)"
   ]
  },
  {
   "cell_type": "code",
   "execution_count": null,
   "metadata": {},
   "outputs": [],
   "source": []
  }
 ],
 "metadata": {
  "kernelspec": {
   "display_name": "env",
   "language": "python",
   "name": "python3"
  },
  "language_info": {
   "codemirror_mode": {
    "name": "ipython",
    "version": 3
   },
   "file_extension": ".py",
   "mimetype": "text/x-python",
   "name": "python",
   "nbconvert_exporter": "python",
   "pygments_lexer": "ipython3",
   "version": "3.10.5 (main, Jul  9 2022, 20:04:02) [GCC 9.4.0]"
  },
  "orig_nbformat": 4,
  "vscode": {
   "interpreter": {
    "hash": "b5bfa589a617a49a8e7b6b8c979f739afaea72c7cd85df9fac046adcf7a8ba30"
   }
  }
 },
 "nbformat": 4,
 "nbformat_minor": 2
}
